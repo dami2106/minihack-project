{
 "cells": [
  {
   "cell_type": "code",
   "execution_count": 1,
   "metadata": {},
   "outputs": [],
   "source": [
    "import random\n",
    "import numpy as np\n",
    "import gym\n",
    "\n",
    "# from dqn.agent import DQNAgent\n",
    "# from dqn.replay_buffer import ReplayBuffer\n",
    "# from dqn.wrappers import *\n",
    "# from helper import make_video, normalize_glyphs, distance_to_object\n",
    "from nle import nethack\n",
    "from minihack import RewardManager\n",
    "import torch\n",
    "\n",
    "\n",
    "\n",
    "from a2c.agent import ACAgent\n",
    "from a2c.model import AdvantageActorCritic\n",
    "from a2c.helper import get_observation, normalize_glyphs, normalize_messages, make_video"
   ]
  },
  {
   "cell_type": "code",
   "execution_count": 12,
   "metadata": {},
   "outputs": [
    {
     "name": "stderr",
     "output_type": "stream",
     "text": [
      "/home/dami/anaconda3/envs/minihack/lib/python3.8/site-packages/minihack/scripts/mh_patch_nhdat.sh: line 25: cd: too many arguments\n"
     ]
    }
   ],
   "source": [
    "device = torch.device(\"cuda\")\n",
    "\n",
    "reward_manager = RewardManager()   \n",
    "reward_manager.add_message_event([\"stone\"], -1.0)\n",
    "\n",
    "env = gym.make(\n",
    "    \"MiniHack-Room-5x5-v0\",\n",
    "    observation_keys = ['pixel', 'message', 'glyphs'],\n",
    "    reward_win = 2.0\n",
    ")\n",
    "\n",
    "\n",
    "ac = ACAgent(\n",
    "    observation_space = env.observation_space,\n",
    "    action_space = env.action_space,\n",
    "    use_double_dqn = None,\n",
    "    lr = 0.02,\n",
    "    batch_size = None,\n",
    "    gamma = 0.99,\n",
    "    max_episode_length = 1000,\n",
    "    max_episodes = 100,\n",
    "    env = env\n",
    ")"
   ]
  },
  {
   "cell_type": "code",
   "execution_count": 13,
   "metadata": {},
   "outputs": [],
   "source": [
    "make_video(\n",
    "    env, \n",
    "    ac,\n",
    "    30,\n",
    "    30,\n",
    "    \"test\",\n",
    "    10000,\n",
    "    \"a2c.mp4\"\n",
    ")"
   ]
  }
 ],
 "metadata": {
  "kernelspec": {
   "display_name": "minihack",
   "language": "python",
   "name": "python3"
  },
  "language_info": {
   "codemirror_mode": {
    "name": "ipython",
    "version": 3
   },
   "file_extension": ".py",
   "mimetype": "text/x-python",
   "name": "python",
   "nbconvert_exporter": "python",
   "pygments_lexer": "ipython3",
   "version": "3.8.18"
  }
 },
 "nbformat": 4,
 "nbformat_minor": 2
}
