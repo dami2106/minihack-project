{
 "cells": [
  {
   "cell_type": "code",
   "execution_count": null,
   "metadata": {},
   "outputs": [],
   "source": [
    "lvl_gen = LevelGenerator(w=10, h=10)\n",
    "lvl_gen.add_object(\"apple\", \"%\")\n",
    "\n",
    "MOVE_ACTIONS = tuple(nethack.CompassDirection) # These are the cardinal directions\n",
    "EAT_ACTIONS = MOVE_ACTIONS + (nethack.Command.EAT,) # Eat is to complete an episode by confirmation\n",
    "\n",
    "\n",
    "# env = gym.make(\n",
    "#     \"MiniHack-Skill-Custom-v0\",\n",
    "#     des_file=lvl_gen.get_des(),\n",
    "#     observation_keys=(\"pixel\", \"message\", \"chars\")\n",
    "# )\n",
    "\n",
    "env = gym.make(\n",
    "    \"MiniHack-Eat-v0\",\n",
    "    observation_keys=(\"pixel\", \"message\", \"chars\"),\n",
    "    actions = EAT_ACTIONS\n",
    ")\n",
    "\n",
    "# CAUTION: This is a random policy, so it will not perform well on the game.\n",
    "# Use your trained agent instead, which should have the `act` method.\n",
    "class RandomPolicy:\n",
    "    def act(self, obs): \n",
    "   \n",
    "\n",
    "     return env.action_space.sample()\n",
    "\n",
    "\n",
    "state = env.reset()\n",
    "\n",
    "\n",
    "\n",
    "\n",
    "# print(np.unique(state[\"chars\"]))\n",
    "# # [ 32  40  45  46  64 124]\n",
    "# np.set_printoptions(threshold=np.inf, linewidth=np.inf)\n",
    "# print(state[\"chars\"])\n",
    "\n",
    "# Visualize trained agent\n",
    "pic = display_pic(\n",
    "    env,\n",
    "    RandomPolicy(),\n",
    "    video_filepath=\"test-video/video.mp4\",\n",
    "    pygame_frame_rate=60,\n",
    "    video_frame_rate=5,\n",
    "    max_timesteps=1,\n",
    ")\n",
    "\n",
    "import matplotlib.pyplot as plt\n",
    "\n",
    "#Flip the image horizontally\n",
    "\n",
    "pic = np.flip(pic, axis=1)\n",
    "\n",
    "plt.imshow(np.rot90(pic))"
   ]
  }
 ],
 "metadata": {
  "kernelspec": {
   "display_name": "minihack",
   "language": "python",
   "name": "python3"
  },
  "language_info": {
   "codemirror_mode": {
    "name": "ipython",
    "version": 3
   },
   "file_extension": ".py",
   "mimetype": "text/x-python",
   "name": "python",
   "nbconvert_exporter": "python",
   "pygments_lexer": "ipython3",
   "version": "3.8.18"
  }
 },
 "nbformat": 4,
 "nbformat_minor": 2
}
